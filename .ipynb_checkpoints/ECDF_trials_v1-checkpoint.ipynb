{
 "cells": [
  {
   "cell_type": "code",
   "execution_count": null,
   "id": "89b2768c",
   "metadata": {
    "code_folding": [
     0
    ]
   },
   "outputs": [],
   "source": [
    "#Extra Code\n",
    "from numpy.random import normal\n",
    "from numpy import hstack\n",
    "import seaborn as sns\n",
    "\n",
    "# generate a sample\n",
    "sample1 = normal(loc=20, scale=5, size=300)\n",
    "sample2 = normal(loc=40, scale=5, size=700)\n",
    "sample = hstack((sample1, sample2))\n",
    "\n",
    "# generate the histogram\n",
    "dist_counts, dist_bins = numpy.histogram(sample, bins=50)\n",
    "\n",
    "plt.plot(dist_bins[:-1], dist_counts)\n",
    "plt.show()\n",
    "\n",
    "# plotting density plot for carat using distplot()\n",
    "sns.kdeplot(sample) #Smoothed version of the histogram\n",
    "\n",
    "# visualizing plot using matplotlib.pyplot library\n",
    "plt.show()"
   ]
  },
  {
   "cell_type": "code",
   "execution_count": 2,
   "id": "88827872",
   "metadata": {
    "code_folding": [
     0
    ]
   },
   "outputs": [
    {
     "name": "stdout",
     "output_type": "stream",
     "text": [
      "distilbert-base-uncased loaded...\n"
     ]
    }
   ],
   "source": [
    "#Loading all libraries\n",
    "import matplotlib.pyplot as plt\n",
    "from statsmodels.distributions.empirical_distribution import ECDF\n",
    "import numpy as np\n",
    "import random\n",
    "from sklearn.decomposition import PCA\n",
    "from sklearn import preprocessing\n",
    "from transformers import AutoTokenizer, AutoModel, logging\n",
    "from datasets import load_dataset\n",
    "import torch\n",
    "\n",
    "logging.set_verbosity(50)\n",
    "\n",
    "model_checkpoint = \"distilbert-base-uncased\"\n",
    "\n",
    "tokenizer = AutoTokenizer.from_pretrained(model_checkpoint)\n",
    "model = AutoModel.from_pretrained(model_checkpoint)\n",
    "\n",
    "print(f'{model_checkpoint} loaded...')"
   ]
  },
  {
   "cell_type": "code",
   "execution_count": 3,
   "id": "579f1378",
   "metadata": {
    "code_folding": []
   },
   "outputs": [
    {
     "name": "stderr",
     "output_type": "stream",
     "text": [
      "Reusing dataset covid_qa_deepset (/home/saptarshi/.cache/huggingface/datasets/covid_qa_deepset/covid_qa_deepset/1.0.0/fb886523842e312176f92ec8e01e77a08fa15a694f5741af6fc42796ee9c8c46)\n"
     ]
    },
    {
     "data": {
      "application/vnd.jupyter.widget-view+json": {
       "model_id": "5ef0b9301f184d878138680ca82073e3",
       "version_major": 2,
       "version_minor": 0
      },
      "text/plain": [
       "  0%|          | 0/1 [00:00<?, ?it/s]"
      ]
     },
     "metadata": {},
     "output_type": "display_data"
    }
   ],
   "source": [
    "def gen_samples(dataset_name, number_of_samples = 500):\n",
    "    dataset = load_dataset(dataset_name)\n",
    "    randomly_sampled_data = random.sample(range(dataset['train'].num_rows), number_of_samples)\n",
    "    sampled_dataset = dataset['train'][randomly_sampled_data]\n",
    "    samples = np.array([torch.mean(model.get_input_embeddings()(tokenizer(x, y, stride=128, truncation='only_second', return_tensors='pt')['input_ids']), dim=1).squeeze(0).detach().numpy() \n",
    "           for x, y in zip(sampled_dataset['question'], sampled_dataset['context'])])\n",
    "    return samples\n",
    "\n",
    "samples = gen_samples(\"covid_qa_deepset\")\n",
    "#samples = gen_samples('squad')"
   ]
  },
  {
   "cell_type": "code",
   "execution_count": 4,
   "id": "b3b92d28",
   "metadata": {},
   "outputs": [
    {
     "data": {
      "image/png": "[encoded data removed]",
      "text/plain": [
       "<Figure size 432x288 with 1 Axes>"
      ]
     },
     "metadata": {
      "needs_background": "light"
     },
     "output_type": "display_data"
    }
   ],
   "source": [
    "scaler = preprocessing.StandardScaler()\n",
    "scaled_data = scaler.fit_transform(samples)\n",
    "\n",
    "pca = PCA() # create a PCA object\n",
    "pca_data = pca.fit_transform(scaled_data) # get PCA coordinates for scaled_data\n",
    "\n",
    "#The following code constructs the Scree plot\n",
    "per_var = np.round(pca.explained_variance_ratio_* 100, decimals=1)\n",
    "labels = ['PC' + str(x) for x in range(1, len(per_var)+1)]\n",
    " \n",
    "plt.bar(x=range(1,len(per_var)+1), height=per_var, tick_label=labels)\n",
    "plt.ylabel('Percentage of Explained Variance')\n",
    "plt.xlabel('Principal Component')\n",
    "plt.title('Scree Plot')\n",
    "plt.show()"
   ]
  },
  {
   "cell_type": "code",
   "execution_count": null,
   "id": "0e9f6d2e",
   "metadata": {
    "code_folding": []
   },
   "outputs": [],
   "source": [
    "#ECDF stuff\n",
    "ecdf_squad = ECDF(pca_data.reshape(1,-1).squeeze(0))\n",
    "\n",
    "# plot the cdf\n",
    "plt.plot(ecdf_squad.x, ecdf_squad.y)\n",
    "plt.show()"
   ]
  },
  {
   "cell_type": "code",
   "execution_count": 6,
   "id": "664b77d8",
   "metadata": {},
   "outputs": [
    {
     "data": {
      "image/png": "[encoded data removed]",
      "text/plain": [
       "<Figure size 432x288 with 1 Axes>"
      ]
     },
     "metadata": {
      "needs_background": "light"
     },
     "output_type": "display_data"
    }
   ],
   "source": [
    "ecdf_covid_qa = ECDF(pca_data.reshape(1,-1).squeeze(0))\n",
    "\n",
    "# plot the cdf\n",
    "plt.plot(ecdf_covid_qa.x, ecdf_covid_qa.y)\n",
    "plt.show()"
   ]
  }
 ],
 "metadata": {
  "kernelspec": {
   "display_name": "Python 3 (ipykernel)",
   "language": "python",
   "name": "python3"
  },
  "language_info": {
   "codemirror_mode": {
    "name": "ipython",
    "version": 3
   },
   "file_extension": ".py",
   "mimetype": "text/x-python",
   "name": "python",
   "nbconvert_exporter": "python",
   "pygments_lexer": "ipython3",
   "version": "3.9.7"
  }
 },
 "nbformat": 4,
 "nbformat_minor": 5
}
