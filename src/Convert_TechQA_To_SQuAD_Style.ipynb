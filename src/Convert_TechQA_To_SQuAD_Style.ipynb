{
 "cells": [
  {
   "cell_type": "code",
   "execution_count": null,
   "id": "63f4c983",
   "metadata": {
    "code_folding": [
     15,
     26
    ],
    "scrolled": false
   },
   "outputs": [],
   "source": [
    "import os, json\n",
    "import pandas as pd\n",
    "from tqdm.notebook import tqdm\n",
    "\n",
    "with open(os.path.abspath('../data/TechQA/training_and_dev/training_Q_A.json')) as file:\n",
    "    train_json = json.load(file)\n",
    "\n",
    "with open(os.path.abspath('../data/TechQA/training_and_dev/dev_Q_A.json')) as file:\n",
    "    validation_json = json.load(file)\n",
    "    \n",
    "technotes = pd.read_json(\"../data/TechQA/training_and_dev/training_dev_technotes.json\", orient='index')\n",
    "\n",
    "print('All files loaded...')\n",
    "\n",
    "#Collecting all documents for a given record\n",
    "def add_context(json_file):\n",
    "    for row in tqdm(json_file):\n",
    "        if row['ANSWERABLE'] == 'Y':\n",
    "            row['context'] = technotes[technotes['id'] == row['DOCUMENT']].text[0]\n",
    "        else:\n",
    "            #Combine all documents to create a single document for a given unanswerable records.\n",
    "            text = ''\n",
    "            for doc_id in row['DOC_IDS']:\n",
    "                text += technotes[technotes['id'] == doc_id].text[0]\n",
    "            row['context'] = text\n",
    "\n",
    "def remake_json(json_file):\n",
    "    for idx, row in enumerate(json_file):\n",
    "        row['document_id'] = idx\n",
    "        row['question'] = row.pop('QUESTION_TEXT')\n",
    "        row['is_impossible'] = True if row.pop('ANSWERABLE') == 'N' else False\n",
    "        row['id'] = idx\n",
    "        row['answers'] = {'text': [row.pop('ANSWER')], \"answer_start\": [row.pop('START_OFFSET')]} \\\n",
    "                         if row['is_impossible'] == False else \\\n",
    "                         {'text': [], 'answer_start':[]}\n",
    "        for key in list(row):\n",
    "            if key not in ['document_id', 'question', 'is_impossible', 'id', 'answers', 'context']:\n",
    "                del row[key]\n",
    "\n",
    "add_context(train_json)\n",
    "add_context(validation_json)\n",
    "\n",
    "remake_json(train_json)\n",
    "remake_json(validation_json)\n",
    "\n",
    "with open('training_Q_A_context.json', 'w+', encoding='utf-8') as output_file:\n",
    "    for dic in train_json:\n",
    "        json.dump(dic, output_file) \n",
    "        output_file.write(\"\\n\")\n",
    "\n",
    "with open('dev_Q_A_context.json', 'w+', encoding='utf-8') as output_file:\n",
    "    for dic in validation_json:\n",
    "        json.dump(dic, output_file) \n",
    "        output_file.write(\"\\n\")\n",
    "\n",
    "print('Files saved with context...')"
   ]
  }
 ],
 "metadata": {
  "kernelspec": {
   "display_name": "Python 3 (ipykernel)",
   "language": "python",
   "name": "python3"
  },
  "language_info": {
   "codemirror_mode": {
    "name": "ipython",
    "version": 3
   },
   "file_extension": ".py",
   "mimetype": "text/x-python",
   "name": "python",
   "nbconvert_exporter": "python",
   "pygments_lexer": "ipython3",
   "version": "3.9.7"
  }
 },
 "nbformat": 4,
 "nbformat_minor": 5
}
