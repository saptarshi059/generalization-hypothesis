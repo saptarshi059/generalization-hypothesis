{
 "cells": [
  {
   "cell_type": "code",
   "execution_count": 3,
   "id": "d9ba085c",
   "metadata": {
    "code_folding": [
     5
    ]
   },
   "outputs": [],
   "source": [
    "from datasets import load_metric\n",
    "import pickle5 as pickle\n",
    "import os\n",
    "import re\n",
    "import numpy as np\n",
    "\n",
    "def compute_measure_no_impossible(category, indices):\n",
    "    sub_df = s.loc[indices, :]\n",
    "    pred = []\n",
    "    true = []\n",
    "    for row in sub_df.itertuples():\n",
    "        try:\n",
    "            pred.append({\"id\": str(row.Index), \"prediction_text\": row.predictions})\n",
    "        except:\n",
    "            pred.append(\"\")\n",
    "   \n",
    "        true.append({\"id\": str(row.Index), \"answers\": {'answer_start': [1 for i in range(len(row.gold_answers))], 'text': row.gold_answers}})  \n",
    "    \n",
    "    #return len(sub_df), metric.compute(predictions=pred, references=true)\n",
    "    \n",
    "    print(f'Number of questions in \\\"{category}\\\" category: {len(sub_df)}')\n",
    "    print(metric.compute(predictions=pred, references=true))\n",
    "\n",
    "def compute_measure_with_impossible(category, indices):\n",
    "    sub_df = s.loc[indices, :]\n",
    "    pred = []\n",
    "    true = []\n",
    "    for row in sub_df.itertuples():\n",
    "        if len(str(row.predictions)) == 0:\n",
    "            pred.append({\"id\": str(row.Index), \"prediction_text\": \"\", 'no_answer_probability': 1.})\n",
    "        else:\n",
    "            pred.append({\"id\": str(row.Index), \"prediction_text\": row.predictions, 'no_answer_probability': 0.})\n",
    "      \n",
    "        if len(row.gold_answers) == 0:\n",
    "            true.append({\"id\": str(row.Index), \"answers\": {'answer_start': [1], 'text': []}})\n",
    "        else:\n",
    "            true.append({\"id\": str(row.Index), \"answers\": {'answer_start': [1 for i in range(len(row.gold_answers))], 'text': row.gold_answers}})  \n",
    "\n",
    "    print(f'Number of questions in \\\"{category}\\\" category: {len(sub_df)}')\n",
    "    results = metric.compute(predictions=pred, references=true)\n",
    "    print(f\"EM: {np.round(results['exact'], 2)} F1: {np.round(results['f1'], 2)}\")  \n",
    "    \n",
    "metric = load_metric('squad_v2')"
   ]
  },
  {
   "cell_type": "code",
   "execution_count": 6,
   "id": "42d85685",
   "metadata": {},
   "outputs": [
    {
     "name": "stdout",
     "output_type": "stream",
     "text": [
      "Number of questions in \"what\" category: 47\n",
      "EM: 0.0 F1: 4.08\n",
      "Number of questions in \"why\" category: 32\n",
      "EM: 9.38 F1: 12.61\n",
      "Number of questions in \"when\" category: 54\n",
      "EM: 0.0 F1: 0.84\n",
      "Number of questions in \"which\" category: 9\n",
      "EM: 0.0 F1: 6.24\n",
      "Number of questions in \"where\" category: 45\n",
      "EM: 4.44 F1: 6.1\n",
      "Number of questions in \"how\" category: 36\n",
      "EM: 0.0 F1: 2.45\n",
      "Number of questions in \"is\" category: 42\n",
      "EM: 2.38 F1: 7.21\n",
      "Number of questions in \"in\" category: 12\n",
      "EM: 0.0 F1: 0.0\n",
      "Number of questions in \"other\" category: 33\n",
      "EM: 0.0 F1: 2.65\n"
     ]
    }
   ],
   "source": [
    "pred_file_path = os.path.abspath('../../zero_shot_predictions/techqa/navteca_roberta-base-squad2_Saptarshi7_techqa-squad-style_predictions.pkl')\n",
    "s = pickle.load(open(pred_file_path, 'rb'))\n",
    "\n",
    "what_indices = []\n",
    "why_indices = []\n",
    "when_indices = []\n",
    "who_indices = []\n",
    "which_indices = []\n",
    "where_indices = []\n",
    "how_indices = []\n",
    "is_indices = []\n",
    "in_indices = []\n",
    "other_indices = []\n",
    "\n",
    "for row in s.itertuples():\n",
    "    if re.search(r'\\bwhat\\b', row.question, re.IGNORECASE):\n",
    "        what_indices.append(row.Index)\n",
    "    elif re.search(r'\\bwhy\\b', row.question, re.IGNORECASE):\n",
    "        why_indices.append(row.Index)\n",
    "    elif re.search(r'\\bwhen\\b', row.question, re.IGNORECASE):\n",
    "        when_indices.append(row.Index)\n",
    "    elif re.search(r'\\bwho\\b', row.question, re.IGNORECASE):\n",
    "        who_indices.append(row.Index)\n",
    "    elif re.search(r'\\bwhich\\b', row.question, re.IGNORECASE):\n",
    "        which_indices.append(row.Index)\n",
    "    elif re.search(r'\\bwhere\\b', row.question, re.IGNORECASE):\n",
    "        where_indices.append(row.Index)\n",
    "    elif re.search(r'\\bhow\\b', row.question, re.IGNORECASE):\n",
    "        how_indices.append(row.Index)\n",
    "    elif re.search(r'\\bis\\b', row.question, re.IGNORECASE):\n",
    "        is_indices.append(row.Index)\n",
    "    elif re.search(r'\\bin\\b', row.question, re.IGNORECASE):\n",
    "        in_indices.append(row.Index)\n",
    "    else:\n",
    "        other_indices.append(row.Index)\n",
    "    \n",
    "if len(what_indices) != 0:\n",
    "    compute_measure_with_impossible('what', what_indices)\n",
    "if len(why_indices) != 0:\n",
    "    compute_measure_with_impossible('why', why_indices)\n",
    "if len(when_indices) != 0:\n",
    "    compute_measure_with_impossible('when', when_indices)\n",
    "if len(who_indices) != 0:\n",
    "    compute_measure_with_impossible('who', who_indices)\n",
    "if len(which_indices) != 0:\n",
    "    compute_measure_with_impossible('which', which_indices)\n",
    "if len(where_indices) != 0:\n",
    "    compute_measure_with_impossible('where', where_indices)\n",
    "if len(how_indices) != 0:\n",
    "    compute_measure_with_impossible('how', how_indices)\n",
    "if len(is_indices) != 0:\n",
    "    compute_measure_with_impossible('is', is_indices)\n",
    "if len(in_indices) != 0:\n",
    "    compute_measure_with_impossible('in', in_indices)\n",
    "if len(other_indices) != 0:\n",
    "    compute_measure_with_impossible('other', other_indices)"
   ]
  },
  {
   "cell_type": "code",
   "execution_count": null,
   "id": "ad929df7",
   "metadata": {},
   "outputs": [],
   "source": [
    "metric"
   ]
  },
  {
   "cell_type": "code",
   "execution_count": null,
   "id": "c01a38c2",
   "metadata": {},
   "outputs": [],
   "source": [
    "x = []\n",
    "for row in s.loc[other_indices, :].itertuples():\n",
    "    if re.search(r'\\bin\\b', row.question, re.IGNORECASE):\n",
    "        x.append(row.Index)\n",
    "compute_measure('in', x)"
   ]
  },
  {
   "cell_type": "code",
   "execution_count": null,
   "id": "3e9ddc06",
   "metadata": {},
   "outputs": [],
   "source": [
    "s.loc[other_indices, :].question.to_list()"
   ]
  },
  {
   "cell_type": "code",
   "execution_count": null,
   "id": "8eabd6f7",
   "metadata": {},
   "outputs": [],
   "source": [
    "s.loc[in_indices, :].question.to_list()"
   ]
  }
 ],
 "metadata": {
  "kernelspec": {
   "display_name": "Python 3 (ipykernel)",
   "language": "python",
   "name": "python3"
  },
  "language_info": {
   "codemirror_mode": {
    "name": "ipython",
    "version": 3
   },
   "file_extension": ".py",
   "mimetype": "text/x-python",
   "name": "python",
   "nbconvert_exporter": "python",
   "pygments_lexer": "ipython3",
   "version": "3.9.7"
  }
 },
 "nbformat": 4,
 "nbformat_minor": 5
}
