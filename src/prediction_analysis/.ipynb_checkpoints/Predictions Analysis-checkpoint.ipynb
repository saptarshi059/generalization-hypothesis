{
 "cells": [
  {
   "cell_type": "code",
   "execution_count": 3,
   "id": "42d85685",
   "metadata": {},
   "outputs": [],
   "source": [
    "import pickle5 as pickle\n",
    "import os\n",
    "\n",
    "pred_file_path = os.path.abspath('../../zero_shot_predictions/covidqa/csarron_bert-base-uncased-squad-v1_Saptarshi7_covid_qa_cleaned_CS_predictions.pkl')\n",
    "s = pickle.load(open(pred_file_path, 'rb'))"
   ]
  },
  {
   "cell_type": "code",
   "execution_count": 8,
   "id": "771c0f44",
   "metadata": {},
   "outputs": [],
   "source": [
    "what_indices = []\n",
    "why_indices = []\n",
    "when_indices = []\n",
    "who_indices = []\n",
    "which_indices = []\n",
    "where_indices = []\n",
    "how_indices = []\n",
    "other_indices = []\n",
    "\n",
    "for row in s.itertuples():\n",
    "    if row.question.startswith('What') == True or row.question.startswith('what') == True:\n",
    "        what_indices.append(row.Index)\n",
    "    elif row.question.startswith('Why') == True or row.question.startswith('why') == True:\n",
    "        why_indices.append(row.Index)\n",
    "    elif row.question.startswith('When') == True or row.question.startswith('when') == True:\n",
    "        when_indices.append(row.Index)\n",
    "    elif row.question.startswith('Who') == True or row.question.startswith('who') == True:\n",
    "        who_indices.append(row.Index)\n",
    "    elif row.question.startswith('Which') == True or row.question.startswith('which') == True:\n",
    "        which_indices.append(row.Index)\n",
    "    elif row.question.startswith('Where') == True or row.question.startswith('where') == True:\n",
    "        where_indices.append(row.Index)\n",
    "    elif row.question.startswith('How') == True or row.question.startswith('how') == True:\n",
    "        how_indices.append(row.Index)\n",
    "    else:\n",
    "        other_indices.append(row.Index)"
   ]
  },
  {
   "cell_type": "code",
   "execution_count": 32,
   "id": "be886b11",
   "metadata": {},
   "outputs": [],
   "source": [
    "from datasets import load_metric\n",
    "metric = load_metric('squad')\n",
    "\n",
    "def compute_measure(category, indices):\n",
    "    sub_df = s.loc[indices, :]\n",
    "    pred = []\n",
    "    true = []\n",
    "    for row in sub_df.itertuples():\n",
    "        try:\n",
    "            pred.append({\"id\": str(row.Index), \"prediction_text\": row.predictions})\n",
    "        except:\n",
    "            pred.append(\"\")\n",
    "   \n",
    "        true.append({\"id\": str(row.Index), \"answers\": {'answer_start': [1 for i in range(len(row.gold_answers))], 'text': row.gold_answers}})  \n",
    "    \n",
    "    print(f'Number of questions in \\\"{category}\\\" category: {len(sub_df)}')\n",
    "    print(metric.compute(predictions=pred, references=true))"
   ]
  },
  {
   "cell_type": "code",
   "execution_count": 33,
   "id": "1b9751ab",
   "metadata": {},
   "outputs": [
    {
     "name": "stdout",
     "output_type": "stream",
     "text": [
      "Number of questions in \"what\" category: 1347\n",
      "{'exact_match': 20.56421677802524, 'f1': 39.71329786838658}\n",
      "Number of questions in \"why\" category: 82\n",
      "{'exact_match': 15.853658536585366, 'f1': 42.80527127414651}\n",
      "Number of questions in \"when\" category: 54\n",
      "{'exact_match': 53.7037037037037, 'f1': 69.17159398866715}\n",
      "Number of questions in \"who\" category: 16\n",
      "{'exact_match': 50.0, 'f1': 63.97907647907648}\n",
      "Number of questions in \"which\" category: 62\n",
      "{'exact_match': 30.64516129032258, 'f1': 45.67621492261307}\n",
      "Number of questions in \"how\" category: 268\n",
      "{'exact_match': 27.238805970149254, 'f1': 47.3051613135228}\n",
      "Number of questions in \"where\" category: 52\n",
      "{'exact_match': 28.846153846153847, 'f1': 53.52281606044148}\n",
      "Number of questions in \"other\" category: 138\n",
      "{'exact_match': 13.043478260869565, 'f1': 35.98340804485083}\n"
     ]
    }
   ],
   "source": [
    "compute_measure('what', what_indices)\n",
    "compute_measure('why', why_indices)\n",
    "compute_measure('when', when_indices)\n",
    "compute_measure('who', who_indices)\n",
    "compute_measure('which', which_indices)\n",
    "compute_measure('where', where_indices)\n",
    "compute_measure('how', how_indices)\n",
    "compute_measure('other', other_indices)"
   ]
  }
 ],
 "metadata": {
  "kernelspec": {
   "display_name": "Python 3 (ipykernel)",
   "language": "python",
   "name": "python3"
  },
  "language_info": {
   "codemirror_mode": {
    "name": "ipython",
    "version": 3
   },
   "file_extension": ".py",
   "mimetype": "text/x-python",
   "name": "python",
   "nbconvert_exporter": "python",
   "pygments_lexer": "ipython3",
   "version": "3.9.7"
  }
 },
 "nbformat": 4,
 "nbformat_minor": 5
}
