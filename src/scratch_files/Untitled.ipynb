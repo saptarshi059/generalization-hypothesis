{
 "cells": [
  {
   "cell_type": "code",
   "execution_count": 1,
   "id": "07bb1c1a",
   "metadata": {},
   "outputs": [],
   "source": [
    "from datasets import load_dataset, load_metric\n",
    "from torch.utils.data import Dataset, DataLoader\n",
    "from tqdm import tqdm\n",
    "from transformers import AutoTokenizer\n",
    "import re\n",
    "import torch"
   ]
  },
  {
   "cell_type": "code",
   "execution_count": 2,
   "id": "459180ce",
   "metadata": {},
   "outputs": [],
   "source": [
    "dataset = load_dataset('squad', token=True, trust_remote_code=True)\n",
    "dataset['test'] = dataset.pop('validation')\n",
    "dataset['test'] = dataset['test'].filter(lambda x: x['answers']['text'] != [])"
   ]
  },
  {
   "cell_type": "code",
   "execution_count": 4,
   "id": "ad9ebcc0",
   "metadata": {},
   "outputs": [],
   "source": [
    "tokenizer = AutoTokenizer.from_pretrained('tiiuae/falcon-7b-instruct')"
   ]
  },
  {
   "cell_type": "code",
   "execution_count": 11,
   "id": "8e2e70e9",
   "metadata": {},
   "outputs": [],
   "source": [
    "class NoChunkDataset(Dataset):\n",
    "    def __init__(self, ds, prompt):\n",
    "        self.samples = []\n",
    "        for row in tqdm(ds):\n",
    "            self.samples.append((prompt.format(context=row['context'], question=row['question']),\n",
    "                                 row['answers']['text']))\n",
    "\n",
    "    def __len__(self):\n",
    "        return len(self.samples)\n",
    "\n",
    "    def __getitem__(self, idx):\n",
    "        return self.samples[idx]"
   ]
  },
  {
   "cell_type": "code",
   "execution_count": 12,
   "id": "a03bef11",
   "metadata": {},
   "outputs": [
    {
     "name": "stderr",
     "output_type": "stream",
     "text": [
      "100%|██████████████████████████████████████████████████████████████████████████████████████████████████████████████████████████████████████████████████████████████████████████████████| 10570/10570 [00:01<00:00, 7022.17it/s]\n"
     ]
    }
   ],
   "source": [
    "formatted_dataset = NoChunkDataset(dataset['test'], 'Context: {context}\\n\\nQuestion: {question}\\n\\nAnswer: ')"
   ]
  },
  {
   "cell_type": "code",
   "execution_count": 18,
   "id": "9b4a16d0",
   "metadata": {},
   "outputs": [
    {
     "data": {
      "text/plain": [
       "[('Context: Super Bowl 50 was an American football game to determine the champion of the National Football League (NFL) for the 2015 season. The American Football Conference (AFC) champion Denver Broncos defeated the National Football Conference (NFC) champion Carolina Panthers 24–10 to earn their third Super Bowl title. The game was played on February 7, 2016, at Levi\\'s Stadium in the San Francisco Bay Area at Santa Clara, California. As this was the 50th Super Bowl, the league emphasized the \"golden anniversary\" with various gold-themed initiatives, as well as temporarily suspending the tradition of naming each Super Bowl game with Roman numerals (under which the game would have been known as \"Super Bowl L\"), so that the logo could prominently feature the Arabic numerals 50.\\n\\nQuestion: Which NFL team represented the AFC at Super Bowl 50?\\n\\nAnswer: ',\n",
       "  ['Denver Broncos', 'Denver Broncos', 'Denver Broncos']),\n",
       " ('Context: Super Bowl 50 was an American football game to determine the champion of the National Football League (NFL) for the 2015 season. The American Football Conference (AFC) champion Denver Broncos defeated the National Football Conference (NFC) champion Carolina Panthers 24–10 to earn their third Super Bowl title. The game was played on February 7, 2016, at Levi\\'s Stadium in the San Francisco Bay Area at Santa Clara, California. As this was the 50th Super Bowl, the league emphasized the \"golden anniversary\" with various gold-themed initiatives, as well as temporarily suspending the tradition of naming each Super Bowl game with Roman numerals (under which the game would have been known as \"Super Bowl L\"), so that the logo could prominently feature the Arabic numerals 50.\\n\\nQuestion: Which NFL team represented the NFC at Super Bowl 50?\\n\\nAnswer: ',\n",
       "  ['Carolina Panthers', 'Carolina Panthers', 'Carolina Panthers'])]"
      ]
     },
     "execution_count": 18,
     "metadata": {},
     "output_type": "execute_result"
    }
   ],
   "source": [
    "formatted_dataset[:2]"
   ]
  },
  {
   "cell_type": "code",
   "execution_count": 19,
   "id": "98b5cd6d",
   "metadata": {},
   "outputs": [],
   "source": [
    "dataloader = DataLoader(formatted_dataset, batch_size=2, shuffle=False)"
   ]
  },
  {
   "cell_type": "code",
   "execution_count": 24,
   "id": "a35e5c55",
   "metadata": {},
   "outputs": [
    {
     "data": {
      "text/plain": [
       "{'id': '56be4db0acb8001400a502ed',\n",
       " 'title': 'Super_Bowl_50',\n",
       " 'context': 'Super Bowl 50 was an American football game to determine the champion of the National Football League (NFL) for the 2015 season. The American Football Conference (AFC) champion Denver Broncos defeated the National Football Conference (NFC) champion Carolina Panthers 24–10 to earn their third Super Bowl title. The game was played on February 7, 2016, at Levi\\'s Stadium in the San Francisco Bay Area at Santa Clara, California. As this was the 50th Super Bowl, the league emphasized the \"golden anniversary\" with various gold-themed initiatives, as well as temporarily suspending the tradition of naming each Super Bowl game with Roman numerals (under which the game would have been known as \"Super Bowl L\"), so that the logo could prominently feature the Arabic numerals 50.',\n",
       " 'question': 'Which NFL team represented the NFC at Super Bowl 50?',\n",
       " 'answers': {'text': ['Carolina Panthers',\n",
       "   'Carolina Panthers',\n",
       "   'Carolina Panthers'],\n",
       "  'answer_start': [249, 249, 249]}}"
      ]
     },
     "execution_count": 24,
     "metadata": {},
     "output_type": "execute_result"
    }
   ],
   "source": [
    "dataset['test'][0]"
   ]
  },
  {
   "cell_type": "code",
   "execution_count": 23,
   "id": "90a5a199",
   "metadata": {},
   "outputs": [
    {
     "name": "stdout",
     "output_type": "stream",
     "text": [
      "('Context: Super Bowl 50 was an American football game to determine the champion of the National Football League (NFL) for the 2015 season. The American Football Conference (AFC) champion Denver Broncos defeated the National Football Conference (NFC) champion Carolina Panthers 24–10 to earn their third Super Bowl title. The game was played on February 7, 2016, at Levi\\'s Stadium in the San Francisco Bay Area at Santa Clara, California. As this was the 50th Super Bowl, the league emphasized the \"golden anniversary\" with various gold-themed initiatives, as well as temporarily suspending the tradition of naming each Super Bowl game with Roman numerals (under which the game would have been known as \"Super Bowl L\"), so that the logo could prominently feature the Arabic numerals 50.\\n\\nQuestion: Which NFL team represented the AFC at Super Bowl 50?\\n\\nAnswer: ', 'Context: Super Bowl 50 was an American football game to determine the champion of the National Football League (NFL) for the 2015 season. The American Football Conference (AFC) champion Denver Broncos defeated the National Football Conference (NFC) champion Carolina Panthers 24–10 to earn their third Super Bowl title. The game was played on February 7, 2016, at Levi\\'s Stadium in the San Francisco Bay Area at Santa Clara, California. As this was the 50th Super Bowl, the league emphasized the \"golden anniversary\" with various gold-themed initiatives, as well as temporarily suspending the tradition of naming each Super Bowl game with Roman numerals (under which the game would have been known as \"Super Bowl L\"), so that the logo could prominently feature the Arabic numerals 50.\\n\\nQuestion: Which NFL team represented the NFC at Super Bowl 50?\\n\\nAnswer: ')\n"
     ]
    }
   ],
   "source": [
    "for batch in dataloader:\n",
    "    print(batch[0])\n",
    "    break"
   ]
  },
  {
   "cell_type": "code",
   "execution_count": null,
   "id": "58220f5d",
   "metadata": {},
   "outputs": [],
   "source": [
    "class TechQA(Dataset):\n",
    "    def __init__(self, ds, prompt):\n",
    "        self.samples = []\n",
    "        for row in tqdm(ds):\n",
    "            context = row['context']\n",
    "            context_chunks = tokenizer(context, add_special_tokens=False, truncation=True, max_length=1024,\n",
    "                                       stride=50, return_overflowing_tokens=True)\n",
    "            true_spans = row['answers']['text']\n",
    "            question = row['question']\n",
    "            \n",
    "            flag = 0\n",
    "            for chunk in context_chunks['input_ids']:\n",
    "                decoded_chunk = tokenizer.decode(chunk, clean_up_tokenization_spaces=False)\n",
    "                for ans in true_spans:\n",
    "                    if ans in decoded_chunk:\n",
    "                        flag = 1\n",
    "                    else:\n",
    "                        flag = 0\n",
    "                        break\n",
    "                if flag == 1:\n",
    "                    self.samples.append((prompt.format(context=decoded_chunk, question=question), true_spans))\n",
    "                    break\n",
    "\n",
    "    def __len__(self):\n",
    "        return len(self.samples)\n",
    "\n",
    "    def __getitem__(self, idx):\n",
    "        return self.samples[idx]\n",
    "    \n",
    "formatted_dataset = TechQA(dataset['test'], 'Context: {context}\\n\\nQuestion: {question}\\n\\nAnswer: ')\n",
    "\n",
    "c=0\n",
    "for expanded_prompt, true_answers in formatted_dataset:\n",
    "    d=0\n",
    "    for ans in true_answers:\n",
    "        if re.search(fr'{re.escape(ans)}', expanded_prompt, re.IGNORECASE):\n",
    "            d+=1\n",
    "    if d==len(true_answers):\n",
    "        c+=1\n",
    "c"
   ]
  },
  {
   "cell_type": "code",
   "execution_count": null,
   "id": "0139a352",
   "metadata": {},
   "outputs": [],
   "source": [
    "dataset"
   ]
  },
  {
   "cell_type": "code",
   "execution_count": null,
   "id": "4af41384",
   "metadata": {},
   "outputs": [],
   "source": [
    "c=0\n",
    "for expanded_prompt, true_answers in formatted_dataset:\n",
    "    d=0\n",
    "    for ans in true_answers:\n",
    "        if re.search(fr'{re.escape(ans)}', expanded_prompt, re.IGNORECASE):\n",
    "            d+=1\n",
    "    if d == len(true_answers):\n",
    "        print(expanded_prompt, true_answers)\n",
    "        c+=1\n",
    "    else:\n",
    "        print(expanded_prompt, true_answers)\n",
    "        break\n",
    "c"
   ]
  },
  {
   "cell_type": "code",
   "execution_count": null,
   "id": "300b0317",
   "metadata": {},
   "outputs": [],
   "source": [
    "c=0\n",
    "for row in dataset['test']:\n",
    "    d=0\n",
    "    for ans in row['answers']['text']:\n",
    "        if re.search(fr'{re.escape(ans)}', row['context'], re.IGNORECASE):\n",
    "            #print(row['context'], ans)\n",
    "            #print('>>>>>>>>>>>>>>>>>>>>>>>>>>>>.')\n",
    "            d+=1\n",
    "    if d==len(row['answers']['text']):\n",
    "        c+=1\n",
    "c"
   ]
  }
 ],
 "metadata": {
  "kernelspec": {
   "display_name": "Python 3 (ipykernel)",
   "language": "python",
   "name": "python3"
  },
  "language_info": {
   "codemirror_mode": {
    "name": "ipython",
    "version": 3
   },
   "file_extension": ".py",
   "mimetype": "text/x-python",
   "name": "python",
   "nbconvert_exporter": "python",
   "pygments_lexer": "ipython3",
   "version": "3.9.7"
  }
 },
 "nbformat": 4,
 "nbformat_minor": 5
}
