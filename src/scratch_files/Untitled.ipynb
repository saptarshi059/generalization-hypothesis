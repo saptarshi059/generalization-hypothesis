{
 "cells": [
  {
   "cell_type": "code",
   "execution_count": null,
   "id": "07bb1c1a",
   "metadata": {},
   "outputs": [],
   "source": [
    "from datasets import load_dataset, load_metric\n",
    "from torch.utils.data import Dataset, DataLoader\n",
    "from tqdm import tqdm\n",
    "from transformers import AutoTokenizer\n",
    "import re"
   ]
  },
  {
   "cell_type": "code",
   "execution_count": 2,
   "id": "459180ce",
   "metadata": {},
   "outputs": [],
   "source": [
    "dataset = load_dataset('Saptarshi7/techqa-squad-style', token=True, trust_remote_code=True)\n",
    "dataset['test'] = dataset.pop('validation')\n",
    "dataset['test'] = dataset['test'].filter(lambda x: x['answers']['text'] != [])"
   ]
  },
  {
   "cell_type": "code",
   "execution_count": 3,
   "id": "ad9ebcc0",
   "metadata": {},
   "outputs": [],
   "source": [
    "tokenizer = AutoTokenizer.from_pretrained('tiiuae/falcon-7b-instruct')"
   ]
  },
  {
   "cell_type": "code",
   "execution_count": null,
   "id": "58220f5d",
   "metadata": {},
   "outputs": [],
   "source": [
    "class TechQA(Dataset):\n",
    "    def __init__(self, ds, prompt):\n",
    "        self.samples = []\n",
    "        for row in tqdm(ds):\n",
    "            context = row['context']\n",
    "            context_chunks = tokenizer(context, add_special_tokens=False, truncation=True, max_length=1024,\n",
    "                                       stride=50, return_overflowing_tokens=True)\n",
    "            true_spans = row['answers']['text']\n",
    "            question = row['question']\n",
    "            \n",
    "            flag = 0\n",
    "            for chunk in context_chunks['input_ids']:\n",
    "                decoded_chunk = tokenizer.decode(chunk, clean_up_tokenization_spaces=False)\n",
    "                for ans in true_spans:\n",
    "                    if ans in decoded_chunk:\n",
    "                        flag = 1\n",
    "                    else:\n",
    "                        flag = 0\n",
    "                        break\n",
    "                if flag == 1:\n",
    "                    self.samples.append((prompt.format(context=decoded_chunk, question=question), true_spans))\n",
    "                    break\n",
    "\n",
    "    def __len__(self):\n",
    "        return len(self.samples)\n",
    "\n",
    "    def __getitem__(self, idx):\n",
    "        return self.samples[idx]\n",
    "    \n",
    "formatted_dataset = TechQA(dataset['test'], 'Context: {context}\\n\\nQuestion: {question}\\n\\nAnswer: ')\n",
    "\n",
    "c=0\n",
    "for expanded_prompt, true_answers in formatted_dataset:\n",
    "    d=0\n",
    "    for ans in true_answers:\n",
    "        if re.search(fr'{re.escape(ans)}', expanded_prompt, re.IGNORECASE):\n",
    "            d+=1\n",
    "    if d==len(true_answers):\n",
    "        c+=1\n",
    "c"
   ]
  },
  {
   "cell_type": "code",
   "execution_count": null,
   "id": "0139a352",
   "metadata": {},
   "outputs": [],
   "source": [
    "dataset"
   ]
  },
  {
   "cell_type": "code",
   "execution_count": null,
   "id": "4af41384",
   "metadata": {},
   "outputs": [],
   "source": [
    "c=0\n",
    "for expanded_prompt, true_answers in formatted_dataset:\n",
    "    d=0\n",
    "    for ans in true_answers:\n",
    "        if re.search(fr'{re.escape(ans)}', expanded_prompt, re.IGNORECASE):\n",
    "            d+=1\n",
    "    if d == len(true_answers):\n",
    "        print(expanded_prompt, true_answers)\n",
    "        c+=1\n",
    "    else:\n",
    "        print(expanded_prompt, true_answers)\n",
    "        break\n",
    "c"
   ]
  },
  {
   "cell_type": "code",
   "execution_count": null,
   "id": "300b0317",
   "metadata": {},
   "outputs": [],
   "source": [
    "c=0\n",
    "for row in dataset['test']:\n",
    "    d=0\n",
    "    for ans in row['answers']['text']:\n",
    "        if re.search(fr'{re.escape(ans)}', row['context'], re.IGNORECASE):\n",
    "            #print(row['context'], ans)\n",
    "            #print('>>>>>>>>>>>>>>>>>>>>>>>>>>>>.')\n",
    "            d+=1\n",
    "    if d==len(row['answers']['text']):\n",
    "        c+=1\n",
    "c"
   ]
  }
 ],
 "metadata": {
  "kernelspec": {
   "display_name": "Python 3 (ipykernel)",
   "language": "python",
   "name": "python3"
  },
  "language_info": {
   "codemirror_mode": {
    "name": "ipython",
    "version": 3
   },
   "file_extension": ".py",
   "mimetype": "text/x-python",
   "name": "python",
   "nbconvert_exporter": "python",
   "pygments_lexer": "ipython3",
   "version": "3.9.7"
  }
 },
 "nbformat": 4,
 "nbformat_minor": 5
}
