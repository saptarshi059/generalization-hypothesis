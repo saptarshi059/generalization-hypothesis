{
 "cells": [
  {
   "cell_type": "code",
   "execution_count": null,
   "id": "d6051ea6",
   "metadata": {},
   "outputs": [],
   "source": [
    "import pandas as pd\n",
    "scores = pd.read_csv('../../results/model_analysis_scores-wpm+cased.csv').set_index(['Layers', 'Dataset'])"
   ]
  },
  {
   "cell_type": "code",
   "execution_count": null,
   "id": "80b34338",
   "metadata": {
    "code_folding": []
   },
   "outputs": [],
   "source": [
    "EM_vals = []\n",
    "F1_vals = []\n",
    "\n",
    "layers = 24\n",
    "\n",
    "for a_h in scores.columns:\n",
    "    for row in scores.loc[f'L={layers}'][a_h].reset_index().itertuples(index=False):\n",
    "        if pd.isna(row._1) == True: #for A=16|H=1024 for L=2 through L=12\n",
    "            continue\n",
    "        em_f1 = row._1.split()\n",
    "        if len(em_f1) == 3: #for squad\n",
    "            EM_vals.append([row.Dataset, a_h, float(em_f1[0])])\n",
    "            F1_vals.append([row.Dataset, a_h, float(em_f1[-1])])\n",
    "        else: #for other datasets\n",
    "            EM_vals.append([row.Dataset, a_h, float(em_f1[0])])\n",
    "            F1_vals.append([row.Dataset, a_h, float(em_f1[2])])"
   ]
  },
  {
   "cell_type": "code",
   "execution_count": null,
   "id": "791cda35",
   "metadata": {},
   "outputs": [],
   "source": [
    "import seaborn as sns\n",
    "sns.set(rc={'figure.figsize':(11.7,8.27)})"
   ]
  },
  {
   "cell_type": "code",
   "execution_count": null,
   "id": "b5f1c906",
   "metadata": {},
   "outputs": [],
   "source": [
    "import os\n",
    "masking_strategy = 'word-piece-masking'\n",
    "normalization_strategy = 'cased'\n",
    "\n",
    "if not os.path.isdir(f'../../results/figures_model_analysis/{masking_strategy}'):\n",
    "    os.mkdir(f'../../results/figures_model_analysis/{masking_strategy}')\n",
    "    print('Masking Strategy folder created')\n",
    "\n",
    "if not os.path.isdir(f'../../results/figures_model_analysis/{masking_strategy}/{normalization_strategy}'):\n",
    "    os.mkdir(f'../../results/figures_model_analysis/{masking_strategy}/{normalization_strategy}')\n",
    "    print('Normalization strategy folder created')     \n",
    "\n",
    "path = f'../../results/figures_model_analysis/{masking_strategy}/{normalization_strategy}/L={layers}'\n",
    "if not os.path.isdir(path):\n",
    "    os.mkdir(path)\n",
    "    print('Output Path Created...')"
   ]
  },
  {
   "cell_type": "code",
   "execution_count": null,
   "id": "07f327d1",
   "metadata": {},
   "outputs": [],
   "source": [
    "EM_DF = pd.DataFrame(EM_vals, columns=['Dataset', 'Attention | Hid.', 'EM'])\n",
    "sns.barplot(data=EM_DF, x='Attention | Hid.', y='EM', hue='Dataset').figure.savefig(f\"{path}/EM_plot\")"
   ]
  },
  {
   "cell_type": "code",
   "execution_count": null,
   "id": "4c499c36",
   "metadata": {},
   "outputs": [],
   "source": [
    "F1_DF = pd.DataFrame(F1_vals, columns=['Dataset', 'Attention | Hid.', 'F1'])\n",
    "sns.barplot(data=F1_DF, x='Attention | Hid.', y='F1', hue='Dataset').figure.savefig(f\"{path}/F1_plot\")"
   ]
  }
 ],
 "metadata": {
  "kernelspec": {
   "display_name": "Python 3 (ipykernel)",
   "language": "python",
   "name": "python3"
  },
  "language_info": {
   "codemirror_mode": {
    "name": "ipython",
    "version": 3
   },
   "file_extension": ".py",
   "mimetype": "text/x-python",
   "name": "python",
   "nbconvert_exporter": "python",
   "pygments_lexer": "ipython3",
   "version": "3.9.7"
  }
 },
 "nbformat": 4,
 "nbformat_minor": 5
}
