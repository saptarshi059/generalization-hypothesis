{
 "cells": [
  {
   "cell_type": "code",
   "execution_count": 1,
   "id": "d6051ea6",
   "metadata": {},
   "outputs": [],
   "source": [
    "import pandas as pd\n",
    "scores = pd.read_csv('../../results/model_analysis_scores.csv').set_index(['Layers', 'Dataset'])"
   ]
  },
  {
   "cell_type": "code",
   "execution_count": 2,
   "id": "80b34338",
   "metadata": {
    "code_folding": []
   },
   "outputs": [],
   "source": [
    "EM_vals = []\n",
    "F1_vals = []\n",
    "\n",
    "layers = 2\n",
    "\n",
    "for a_h in scores.columns:\n",
    "    for row in scores.loc[f'L={layers}'][a_h].reset_index().itertuples(index=False):\n",
    "        if pd.isna(row._1) == True: #for A=16|H=1024 for L=2 through L=12\n",
    "            continue\n",
    "        em_f1 = row._1.split()\n",
    "        if len(em_f1) == 3: #for squad\n",
    "            EM_vals.append([row.Dataset, a_h, float(em_f1[0])])\n",
    "            F1_vals.append([row.Dataset, a_h, float(em_f1[-1])])\n",
    "        else: #for other datasets\n",
    "            EM_vals.append([row.Dataset, a_h, float(em_f1[0])])\n",
    "            F1_vals.append([row.Dataset, a_h, float(em_f1[2])])"
   ]
  },
  {
   "cell_type": "code",
   "execution_count": 3,
   "id": "791cda35",
   "metadata": {},
   "outputs": [],
   "source": [
    "import seaborn as sns\n",
    "sns.set(rc={'figure.figsize':(11.7,8.27)})"
   ]
  },
  {
   "cell_type": "code",
   "execution_count": 10,
   "id": "471493d6",
   "metadata": {},
   "outputs": [
    {
     "ename": "FileExistsError",
     "evalue": "[Errno 17] File exists: '../../results/figures_model_analysis/word-piece-masking/uncased/L=2'",
     "output_type": "error",
     "traceback": [
      "\u001b[0;31m---------------------------------------------------------------------------\u001b[0m",
      "\u001b[0;31mFileExistsError\u001b[0m                           Traceback (most recent call last)",
      "\u001b[0;32m/tmp/ipykernel_15863/635056322.py\u001b[0m in \u001b[0;36m<module>\u001b[0;34m\u001b[0m\n\u001b[1;32m     13\u001b[0m \u001b[0mpath\u001b[0m \u001b[0;34m=\u001b[0m \u001b[0;34mf'../../results/figures_model_analysis/{masking_strategy}/{normalization_strategy}/L={layers}'\u001b[0m\u001b[0;34m\u001b[0m\u001b[0;34m\u001b[0m\u001b[0m\n\u001b[1;32m     14\u001b[0m \u001b[0;34m\u001b[0m\u001b[0m\n\u001b[0;32m---> 15\u001b[0;31m \u001b[0mos\u001b[0m\u001b[0;34m.\u001b[0m\u001b[0mmkdir\u001b[0m\u001b[0;34m(\u001b[0m\u001b[0mpath\u001b[0m\u001b[0;34m)\u001b[0m\u001b[0;34m\u001b[0m\u001b[0;34m\u001b[0m\u001b[0m\n\u001b[0m\u001b[1;32m     16\u001b[0m \u001b[0mprint\u001b[0m\u001b[0;34m(\u001b[0m\u001b[0;34m'Output Path Created...'\u001b[0m\u001b[0;34m)\u001b[0m\u001b[0;34m\u001b[0m\u001b[0;34m\u001b[0m\u001b[0m\n",
      "\u001b[0;31mFileExistsError\u001b[0m: [Errno 17] File exists: '../../results/figures_model_analysis/word-piece-masking/uncased/L=2'"
     ]
    }
   ],
   "source": [
    "import os\n",
    "masking_strategy = 'word-piece-masking'\n",
    "normalization_strategy = 'uncased'\n",
    "\n",
    "if not os.path.isdir(f'../../results/figures_model_analysis/{masking_strategy}'):\n",
    "    os.mkdir(f'../../results/figures_model_analysis/{masking_strategy}')\n",
    "    print('Masking Strategy folder created')\n",
    "\n",
    "if not os.path.isdir(f'../../results/figures_model_analysis/{masking_strategy}/{normalization_strategy}'):\n",
    "    os.mkdir(f'../../results/figures_model_analysis/{masking_strategy}/{normalization_strategy}')\n",
    "    print('Normalization strategy folder created')     \n",
    "\n",
    "path = f'../../results/figures_model_analysis/{masking_strategy}/{normalization_strategy}/L={layers}'\n",
    "if not os.path.isdir(path):\n",
    "    os.mkdir(path)\n",
    "\n",
    "print('Output Path Created...')"
   ]
  },
  {
   "cell_type": "code",
   "execution_count": null,
   "id": "07f327d1",
   "metadata": {},
   "outputs": [],
   "source": [
    "EM_DF = pd.DataFrame(EM_vals, columns=['Dataset', 'Attention | Hid.', 'EM'])\n",
    "sns.barplot(data=EM_DF, x='Attention | Hid.', y='EM', hue='Dataset').figure.savefig(f\"{path}/EM_plot\")"
   ]
  },
  {
   "cell_type": "code",
   "execution_count": null,
   "id": "4c499c36",
   "metadata": {},
   "outputs": [],
   "source": [
    "F1_DF = pd.DataFrame(F1_vals, columns=['Dataset', 'Attention | Hid.', 'F1'])\n",
    "sns.barplot(data=F1_DF, x='Attention | Hid.', y='F1', hue='Dataset').figure.savefig(f\"{path}/F1_plot\")"
   ]
  }
 ],
 "metadata": {
  "kernelspec": {
   "display_name": "Python 3 (ipykernel)",
   "language": "python",
   "name": "python3"
  },
  "language_info": {
   "codemirror_mode": {
    "name": "ipython",
    "version": 3
   },
   "file_extension": ".py",
   "mimetype": "text/x-python",
   "name": "python",
   "nbconvert_exporter": "python",
   "pygments_lexer": "ipython3",
   "version": "3.9.7"
  }
 },
 "nbformat": 4,
 "nbformat_minor": 5
}
