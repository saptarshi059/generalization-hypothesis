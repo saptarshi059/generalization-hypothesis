{
 "cells": [
  {
   "cell_type": "code",
   "execution_count": 5,
   "id": "6ff6a5f6",
   "metadata": {},
   "outputs": [
    {
     "name": "stderr",
     "output_type": "stream",
     "text": [
      "/home/saptarshi/anaconda3/lib/python3.9/site-packages/datasets/load.py:2516: FutureWarning: 'use_auth_token' was deprecated in favor of 'token' in version 2.14.0 and will be removed in 3.0.0.\n",
      "You can remove this warning by passing 'token=<use_auth_token>' instead.\n",
      "  warnings.warn(\n"
     ]
    }
   ],
   "source": [
    "#!/usr/bin/env python\n",
    "# coding: utf-8\n",
    "\n",
    "import argparse\n",
    "import random\n",
    "\n",
    "import numpy as np\n",
    "import pandas as pd\n",
    "import torch\n",
    "from datasets import load_dataset\n",
    "from torch.utils.data import Dataset, DataLoader\n",
    "from tqdm import tqdm\n",
    "from transformers import QuestionAnsweringPipeline, AutoModelForQuestionAnswering, AutoTokenizer, logging, set_seed\n",
    "\n",
    "logging.set_verbosity(50)\n",
    "\n",
    "g = torch.Generator()\n",
    "g.manual_seed(42)\n",
    "torch.manual_seed(42)\n",
    "random.seed(42)\n",
    "set_seed(42)\n",
    "\n",
    "model_checkpoint = 'bert-base-uncased'\n",
    "model = AutoModelForQuestionAnswering.from_pretrained(model_checkpoint)\n",
    "tokenizer = AutoTokenizer.from_pretrained(model_checkpoint)\n",
    "\n",
    "nlp = QuestionAnsweringPipeline(model=model, tokenizer=tokenizer)\n",
    "\n",
    "raw_datasets = load_dataset('Saptarshi7/techqa-squad-style', use_auth_token=True)\n",
    "\n",
    "\n",
    "def seed_worker(worker_id):\n",
    "    worker_seed = torch.initial_seed() % 2 ** 32\n",
    "    np.random.seed(worker_seed)\n",
    "    random.seed(worker_seed)"
   ]
  },
  {
   "cell_type": "code",
   "execution_count": 40,
   "id": "068db024",
   "metadata": {},
   "outputs": [],
   "source": [
    "class CustomDataset(Dataset):\n",
    "    def __init__(self, records):\n",
    "        self.records = records\n",
    "\n",
    "    def __len__(self):\n",
    "        return len(self.records)\n",
    "\n",
    "    def __getitem__(self, idx):\n",
    "        record = self.records[idx]\n",
    "        question = record['question']\n",
    "        context = record['context'] \n",
    "        \n",
    "        inputs = tokenizer(question, context, return_tensors=\"pt\", truncation=True, max_length=384, stride=128)\n",
    "        \n",
    "        return inputs\n",
    "\n",
    "\n",
    "# Create custom dataset\n",
    "dataset = CustomDataset(raw_datasets['validation'])\n",
    "dataloader = DataLoader(dataset, batch_size=2, shuffle=False, worker_init_fn=seed_worker, generator=g)\n"
   ]
  },
  {
   "cell_type": "code",
   "execution_count": 41,
   "id": "89531f83",
   "metadata": {},
   "outputs": [
    {
     "name": "stdout",
     "output_type": "stream",
     "text": [
      "torch.Size([2, 1, 384])\n"
     ]
    }
   ],
   "source": [
    "for batch in dataloader:\n",
    "    print(batch['input_ids'].shape)\n",
    "    break"
   ]
  }
 ],
 "metadata": {
  "kernelspec": {
   "display_name": "Python 3 (ipykernel)",
   "language": "python",
   "name": "python3"
  },
  "language_info": {
   "codemirror_mode": {
    "name": "ipython",
    "version": 3
   },
   "file_extension": ".py",
   "mimetype": "text/x-python",
   "name": "python",
   "nbconvert_exporter": "python",
   "pygments_lexer": "ipython3",
   "version": "3.9.7"
  }
 },
 "nbformat": 4,
 "nbformat_minor": 5
}
