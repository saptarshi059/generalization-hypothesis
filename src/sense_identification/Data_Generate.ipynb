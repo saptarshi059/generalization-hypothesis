{
 "cells": [
  {
   "cell_type": "code",
   "execution_count": null,
   "id": "51c04bdf",
   "metadata": {},
   "outputs": [],
   "source": [
    "from transformers import AutoTokenizer\n",
    "from nltk.corpus import stopwords\n",
    "from datasets import load_dataset\n",
    "from collections import Counter\n",
    "from tqdm.notebook import tqdm\n",
    "import string\n",
    "import re"
   ]
  },
  {
   "cell_type": "code",
   "execution_count": null,
   "id": "c237dd75",
   "metadata": {},
   "outputs": [],
   "source": [
    "raw_dataset = load_dataset('duorc', 'SelfRC', use_auth_token=True)\n",
    "name = 'context' if 'context' in raw_dataset['train'].column_names else 'plot'"
   ]
  },
  {
   "cell_type": "code",
   "execution_count": null,
   "id": "ca3599d1",
   "metadata": {},
   "outputs": [],
   "source": [
    "model_checkpoint = 'bert-base-uncased'\n",
    "\n",
    "tokenizer = AutoTokenizer.from_pretrained(model_checkpoint)"
   ]
  },
  {
   "cell_type": "code",
   "execution_count": null,
   "id": "26532227",
   "metadata": {},
   "outputs": [],
   "source": [
    "all_tokens = []\n",
    "previous_context = ''\n",
    "tokenizer_vocab = tokenizer.vocab.keys()\n",
    "\n",
    "for row in tqdm(raw_dataset['train']):\n",
    "    if previous_context != row[name]:\n",
    "        for token in row[name].split():\n",
    "            if (token.lower() not in stopwords.words('english')) \\\n",
    "            and (token.lower() in tokenizer_vocab) \\\n",
    "            and (token not in string.punctuation) \\\n",
    "            and (token.isnumeric() == False):\n",
    "                all_tokens.append(token)\n",
    "        previous_context = row[name]\n",
    "\n",
    "most_common_tokens = Counter(all_tokens).most_common()"
   ]
  },
  {
   "cell_type": "code",
   "execution_count": null,
   "id": "7f5bbddb",
   "metadata": {
    "scrolled": true
   },
   "outputs": [],
   "source": [
    "most_common_tokens"
   ]
  },
  {
   "cell_type": "code",
   "execution_count": null,
   "id": "f0449d4f",
   "metadata": {},
   "outputs": [],
   "source": [
    "sents = []\n",
    "word = 'film'\n",
    "prev = 0\n",
    "for row in tqdm(raw_dataset['train']):\n",
    "    sents.extend(re.findall(rf\"([^.]*?\\b{word}\\b[^.]*\\.)\", row[name]))\n",
    "    curr = len(set(sents))\n",
    "    if prev != curr:\n",
    "        print(curr)\n",
    "        prev = curr\n",
    "    if curr >= 25:\n",
    "        break"
   ]
  },
  {
   "cell_type": "code",
   "execution_count": null,
   "id": "35599056",
   "metadata": {},
   "outputs": [],
   "source": [
    "len(set(sents))"
   ]
  },
  {
   "cell_type": "code",
   "execution_count": null,
   "id": "88cc59f7",
   "metadata": {},
   "outputs": [],
   "source": [
    "for i in list(set(sents)):\n",
    "    print(re.sub('[\\n\\\" \\\"]+', ' ', i))\n",
    "    print('...')"
   ]
  }
 ],
 "metadata": {
  "kernelspec": {
   "display_name": "Python 3 (ipykernel)",
   "language": "python",
   "name": "python3"
  },
  "language_info": {
   "codemirror_mode": {
    "name": "ipython",
    "version": 3
   },
   "file_extension": ".py",
   "mimetype": "text/x-python",
   "name": "python",
   "nbconvert_exporter": "python",
   "pygments_lexer": "ipython3",
   "version": "3.9.7"
  }
 },
 "nbformat": 4,
 "nbformat_minor": 5
}
