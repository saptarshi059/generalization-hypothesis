{
 "cells": [
  {
   "cell_type": "code",
   "execution_count": null,
   "id": "500f9c68",
   "metadata": {},
   "outputs": [],
   "source": [
    "from datasets import Dataset, DatasetDict\n",
    "from datasets import load_dataset\n",
    "from tqdm import tqdm\n",
    "import pandas as pd\n",
    "dataset = load_dataset('ibm/duorc', 'SelfRC')"
   ]
  },
  {
   "cell_type": "code",
   "execution_count": null,
   "id": "b03974fe",
   "metadata": {
    "scrolled": false
   },
   "outputs": [],
   "source": [
    "def process_split(split_name):\n",
    "    keep_indices = []\n",
    "    for idx, row in tqdm(enumerate(dataset[split_name])):\n",
    "        flag = 1\n",
    "        if row['no_answer'] == False:\n",
    "            for ans in row['answers']:\n",
    "                if ans not in row['plot']:\n",
    "                    flag = 0\n",
    "                    break\n",
    "            if flag == 1:\n",
    "                keep_indices.append(idx)\n",
    "        else:\n",
    "            keep_indices.append(idx)\n",
    "    \n",
    "    dataset_subset = dataset[split_name].select(keep_indices)\n",
    "    dataset_df = pd.DataFrame(dataset_subset)\n",
    "    \n",
    "    answer_dicts = []\n",
    "    for row in tqdm(dataset_df.itertuples(index=False)):\n",
    "        answer_idxs = []\n",
    "        if row.no_answer == False:\n",
    "            for ans in row.answers:\n",
    "                answer_idxs.append(row.plot.find(ans))\n",
    "            answer_dicts.append({'text': row.answers, 'answer_start': answer_idxs})\n",
    "        else:\n",
    "            answer_dicts.append({'text': [], 'answer_start': []})\n",
    "    \n",
    "    dataset_df.drop(columns = ['answers'], inplace=True)\n",
    "    dataset_df['answers'] = answer_dicts\n",
    "    \n",
    "    return dataset_df"
   ]
  },
  {
   "cell_type": "code",
   "execution_count": null,
   "id": "023083e2",
   "metadata": {
    "scrolled": false
   },
   "outputs": [],
   "source": [
    "train_hf = Dataset.from_pandas(process_split('train'))\n",
    "validation_hf = Dataset.from_pandas(process_split('validation')) \n",
    "test_hf = Dataset.from_pandas(process_split('test'))"
   ]
  },
  {
   "cell_type": "code",
   "execution_count": null,
   "id": "5e2e34a0",
   "metadata": {},
   "outputs": [],
   "source": [
    "processed_dataset = DatasetDict()\n",
    "\n",
    "processed_dataset['train'] = train_hf\n",
    "processed_dataset['validation'] = validation_hf\n",
    "processed_dataset['test'] = test_hf"
   ]
  },
  {
   "cell_type": "code",
   "execution_count": null,
   "id": "f57a97d5",
   "metadata": {},
   "outputs": [],
   "source": [
    "processed_dataset = processed_dataset.rename_column(\"plot\", \"context\")"
   ]
  },
  {
   "cell_type": "code",
   "execution_count": null,
   "id": "21c121f6",
   "metadata": {},
   "outputs": [],
   "source": [
    "processed_dataset.push_to_hub('Saptarshi7/duorc_processed', private=True)"
   ]
  }
 ],
 "metadata": {
  "kernelspec": {
   "display_name": "Python 3 (ipykernel)",
   "language": "python",
   "name": "python3"
  },
  "language_info": {
   "codemirror_mode": {
    "name": "ipython",
    "version": 3
   },
   "file_extension": ".py",
   "mimetype": "text/x-python",
   "name": "python",
   "nbconvert_exporter": "python",
   "pygments_lexer": "ipython3",
   "version": "3.9.7"
  }
 },
 "nbformat": 4,
 "nbformat_minor": 5
}
