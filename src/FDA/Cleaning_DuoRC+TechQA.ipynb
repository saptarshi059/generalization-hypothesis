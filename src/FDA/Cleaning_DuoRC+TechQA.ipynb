{
 "cells": [
  {
   "cell_type": "markdown",
   "id": "8d0d2823",
   "metadata": {
    "heading_collapsed": true
   },
   "source": [
    "## DuoRC"
   ]
  },
  {
   "cell_type": "code",
   "execution_count": null,
   "id": "500f9c68",
   "metadata": {
    "hidden": true
   },
   "outputs": [],
   "source": [
    "from datasets import Dataset, DatasetDict, load_dataset\n",
    "from tqdm import tqdm\n",
    "import pandas as pd\n",
    "dataset = load_dataset('ibm/duorc', 'SelfRC')"
   ]
  },
  {
   "cell_type": "code",
   "execution_count": null,
   "id": "b03974fe",
   "metadata": {
    "hidden": true,
    "scrolled": false
   },
   "outputs": [],
   "source": [
    "def process_split(split_name):\n",
    "    keep_indices = []\n",
    "    for idx, row in tqdm(enumerate(dataset[split_name])):\n",
    "        flag = 1\n",
    "        if row['no_answer'] == False:\n",
    "            for ans in row['answers']:\n",
    "                if ans not in row['plot']:\n",
    "                    flag = 0\n",
    "                    break\n",
    "            if flag == 1:\n",
    "                keep_indices.append(idx)\n",
    "        else:\n",
    "            keep_indices.append(idx)\n",
    "    \n",
    "    dataset_subset = dataset[split_name].select(keep_indices)\n",
    "    dataset_df = pd.DataFrame(dataset_subset)\n",
    "    \n",
    "    answer_dicts = []\n",
    "    for row in tqdm(dataset_df.itertuples(index=False)):\n",
    "        answer_idxs = []\n",
    "        if row.no_answer == False:\n",
    "            for ans in row.answers:\n",
    "                answer_idxs.append(row.plot.find(ans))\n",
    "            answer_dicts.append({'text': row.answers, 'answer_start': answer_idxs})\n",
    "        else:\n",
    "            answer_dicts.append({'text': [], 'answer_start': []})\n",
    "    \n",
    "    dataset_df.drop(columns = ['answers'], inplace=True)\n",
    "    dataset_df['answers'] = answer_dicts\n",
    "    \n",
    "    return dataset_df"
   ]
  },
  {
   "cell_type": "code",
   "execution_count": null,
   "id": "023083e2",
   "metadata": {
    "hidden": true,
    "scrolled": false
   },
   "outputs": [],
   "source": [
    "train_hf = Dataset.from_pandas(process_split('train'))\n",
    "validation_hf = Dataset.from_pandas(process_split('validation')) \n",
    "test_hf = Dataset.from_pandas(process_split('test'))"
   ]
  },
  {
   "cell_type": "code",
   "execution_count": null,
   "id": "5e2e34a0",
   "metadata": {
    "hidden": true
   },
   "outputs": [],
   "source": [
    "processed_dataset = DatasetDict()\n",
    "\n",
    "processed_dataset['train'] = train_hf\n",
    "processed_dataset['validation'] = validation_hf\n",
    "processed_dataset['test'] = test_hf"
   ]
  },
  {
   "cell_type": "code",
   "execution_count": null,
   "id": "f57a97d5",
   "metadata": {
    "hidden": true
   },
   "outputs": [],
   "source": [
    "processed_dataset = processed_dataset.rename_column(\"plot\", \"context\")"
   ]
  },
  {
   "cell_type": "code",
   "execution_count": null,
   "id": "21c121f6",
   "metadata": {
    "hidden": true
   },
   "outputs": [],
   "source": [
    "processed_dataset.push_to_hub('Saptarshi7/duorc_processed', private=True)"
   ]
  },
  {
   "cell_type": "markdown",
   "id": "b5dc376f",
   "metadata": {
    "heading_collapsed": true
   },
   "source": [
    "# TechQA"
   ]
  },
  {
   "cell_type": "code",
   "execution_count": null,
   "id": "d8e2abe6",
   "metadata": {
    "hidden": true
   },
   "outputs": [],
   "source": [
    "from transformers import AutoTokenizer\n",
    "from datasets import Dataset, DatasetDict, load_dataset\n",
    "from tqdm import tqdm\n",
    "import pandas as pd\n",
    "techqa = load_dataset('Saptarshi7/techqa-squad-style')"
   ]
  },
  {
   "cell_type": "code",
   "execution_count": null,
   "id": "176d964c",
   "metadata": {
    "hidden": true
   },
   "outputs": [],
   "source": [
    "# Removing a question in the validation set which is just a null string.\n",
    "techqa['validation'] = techqa['validation'].filter(lambda x: x['question'] != '')"
   ]
  },
  {
   "cell_type": "code",
   "execution_count": null,
   "id": "78874073",
   "metadata": {
    "hidden": true
   },
   "outputs": [],
   "source": [
    "tokenizer = AutoTokenizer.from_pretrained('bert-base-uncased')"
   ]
  },
  {
   "cell_type": "code",
   "execution_count": null,
   "id": "a78933ae",
   "metadata": {
    "hidden": true,
    "scrolled": false
   },
   "outputs": [],
   "source": [
    "def process_split(split_name):\n",
    "    # Removing those questions for which the tokenizer freaks out.\n",
    "    keep_indices = []\n",
    "    for idx, row in tqdm(enumerate(techqa[split_name])):\n",
    "        try:\n",
    "            tokenized_examples = tokenizer(row['question'], row['context'], truncation=\"only_second\", \n",
    "                                           max_length=512, stride=50, padding=\"max_length\")\n",
    "            keep_indices.append(idx)\n",
    "        except:\n",
    "            continue\n",
    "    dataset_subset = techqa[split_name].select(keep_indices)\n",
    "    \n",
    "    # Removing those questions for which the answers are not found in the context\n",
    "    keep_indices = []\n",
    "    for idx, row in tqdm(enumerate(dataset_subset)):\n",
    "        if row['is_impossible'] == False:\n",
    "            flag = 1\n",
    "            for ans in row['answers']['text']:\n",
    "                if ans not in row['context']:\n",
    "                    flag = 0\n",
    "                    break\n",
    "            if flag == 1:\n",
    "                keep_indices.append(idx)\n",
    "        else:\n",
    "            keep_indices.append(idx)\n",
    "    \n",
    "    dataset_subset = dataset_subset.select(keep_indices)\n",
    "    techqa[split_name] = dataset_subset"
   ]
  },
  {
   "cell_type": "code",
   "execution_count": null,
   "id": "971f6ef7",
   "metadata": {
    "hidden": true,
    "scrolled": false
   },
   "outputs": [],
   "source": [
    "process_split('train')\n",
    "process_split('validation')"
   ]
  },
  {
   "cell_type": "code",
   "execution_count": null,
   "id": "066ce13c",
   "metadata": {
    "hidden": true
   },
   "outputs": [],
   "source": [
    "techqa.push_to_hub('Saptarshi7/techqa_cleaned_for_bert', private=True)"
   ]
  }
 ],
 "metadata": {
  "kernelspec": {
   "display_name": "Python 3 (ipykernel)",
   "language": "python",
   "name": "python3"
  },
  "language_info": {
   "codemirror_mode": {
    "name": "ipython",
    "version": 3
   },
   "file_extension": ".py",
   "mimetype": "text/x-python",
   "name": "python",
   "nbconvert_exporter": "python",
   "pygments_lexer": "ipython3",
   "version": "3.9.7"
  }
 },
 "nbformat": 4,
 "nbformat_minor": 5
}
