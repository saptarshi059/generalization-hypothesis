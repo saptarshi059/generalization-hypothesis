{
 "cells": [
  {
   "cell_type": "code",
   "execution_count": null,
   "id": "bf1e20f3",
   "metadata": {},
   "outputs": [],
   "source": [
    "import matplotlib.pyplot as plt\n",
    "\n",
    "plt.rcParams.update({'font.size': 15})\n",
    "\n",
    "# Data for the bar chart\n",
    "scores = [2.1055, 0.5085965614, 5.457154245, 0.3795081967]\n",
    "categories = [\"COVID-QA\", \"TechQA\", \"DuoRC\", \"CUAD\"]\n",
    "\n",
    "# Creating the bar chart\n",
    "fig = plt.figure(figsize=(8, 5))\n",
    "plt.bar(categories, scores, color='skyblue')\n",
    "plt.xlabel('Dataset')\n",
    "plt.ylabel('Similarity with SQuAD')\n",
    "#plt.title('Bar Chart of Scores')\n",
    "plt.grid(axis='y', linestyle='--', alpha=0.7)\n",
    "\n",
    "# Display the plot\n",
    "plt.show()\n",
    "fig.savefig('fda.pdf',format=\"pdf\", bbox_inches=\"tight\", dpi=200)\n"
   ]
  }
 ],
 "metadata": {
  "kernelspec": {
   "display_name": "Python 3 (ipykernel)",
   "language": "python",
   "name": "python3"
  },
  "language_info": {
   "codemirror_mode": {
    "name": "ipython",
    "version": 3
   },
   "file_extension": ".py",
   "mimetype": "text/x-python",
   "name": "python",
   "nbconvert_exporter": "python",
   "pygments_lexer": "ipython3",
   "version": "3.9.7"
  }
 },
 "nbformat": 4,
 "nbformat_minor": 5
}
