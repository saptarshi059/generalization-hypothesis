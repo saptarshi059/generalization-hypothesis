{
 "cells": [
  {
   "cell_type": "code",
   "execution_count": null,
   "id": "63f4c983",
   "metadata": {},
   "outputs": [],
   "source": [
    "import os, json\n",
    "import pandas as pd\n",
    "from tqdm.notebook import tqdm\n",
    "\n",
    "with open(os.path.abspath('../data/TechQA/training_and_dev/training_Q_A.json')) as file:\n",
    "    train_json = json.load(file)\n",
    "\n",
    "with open(os.path.abspath('../data/TechQA/training_and_dev/dev_Q_A.json')) as file:\n",
    "    validation_json = json.load(file)\n",
    "    \n",
    "technotes = pd.read_json(\"../data/TechQA/training_and_dev/training_dev_technotes.json\", orient='index')\n",
    "\n",
    "print('All files loaded...')\n",
    "\n",
    "#Collecting all documents for a given record\n",
    "def add_context(json_file):\n",
    "    for row in tqdm(json_file):\n",
    "        if row['ANSWERABLE'] == 'Y':\n",
    "            row['context'] = technotes[technotes['id'] == row['DOCUMENT']].text[0]\n",
    "        else:\n",
    "            #Combine all documents to create a single document for a given unanswerable records.\n",
    "            text = ''\n",
    "            for doc_id in row['DOC_IDS']:\n",
    "                text += technotes[technotes['id'] == doc_id].text[0]\n",
    "            row['context'] = text\n",
    "\n",
    "add_context(train_json)\n",
    "add_context(validation_json)\n",
    "\n",
    "with open('training_Q_A_context.json', 'w') as fout:\n",
    "    json.dump(train_json , fout)\n",
    "\n",
    "with open('dev_Q_A_context.json', 'w') as f:\n",
    "    json.dump(validation_json, f)\n",
    "\n",
    "print('Files saved with context...')"
   ]
  }
 ],
 "metadata": {
  "kernelspec": {
   "display_name": "Python 3 (ipykernel)",
   "language": "python",
   "name": "python3"
  },
  "language_info": {
   "codemirror_mode": {
    "name": "ipython",
    "version": 3
   },
   "file_extension": ".py",
   "mimetype": "text/x-python",
   "name": "python",
   "nbconvert_exporter": "python",
   "pygments_lexer": "ipython3",
   "version": "3.9.7"
  }
 },
 "nbformat": 4,
 "nbformat_minor": 5
}
